{
 "metadata": {
  "language_info": {
   "codemirror_mode": {
    "name": "ipython",
    "version": 3
   },
   "file_extension": ".py",
   "mimetype": "text/x-python",
   "name": "python",
   "nbconvert_exporter": "python",
   "pygments_lexer": "ipython3",
   "version": "3.8.5-final"
  },
  "orig_nbformat": 2,
  "kernelspec": {
   "name": "python38564bit1bc5fd6661d74f678d7747277b8969d3",
   "display_name": "Python 3.8.5 64-bit"
  }
 },
 "nbformat": 4,
 "nbformat_minor": 2,
 "cells": [
  {
   "cell_type": "code",
   "execution_count": 1,
   "metadata": {},
   "outputs": [],
   "source": [
    "import os\n",
    "from elasticsearch import Elasticsearch\n",
    "\n",
    "def create_index(elastic_client):\n",
    "    elastic_client.indices.create(\n",
    "        index=\"my_custom_index\",\n",
    "        body={\n",
    "            \"settings\":{  \n",
    "                \"analysis\":{  \n",
    "                    \"analyzer\":{  \n",
    "                        \"my_custom_analyzer\":{  \n",
    "                        \"type\":\"custom\",\n",
    "                        \"tokenizer\":\"standard\",\n",
    "                        \"filter\":[  \n",
    "                            \"lowercase\",\n",
    "                            \"my_synonyms\",\n",
    "                            \"morfologik_stem\"\n",
    "                        ]\n",
    "                        }\n",
    "                    },\n",
    "                    \"filter\":{\n",
    "                        \"my_synonyms\":{  \n",
    "                        \"type\":\"synonym\",\n",
    "                        \"synonyms\":[  \n",
    "                            \"kpk, kodeks postępowania karnego\",\n",
    "                            \"kpc, kodeks postępowania cywilnego\", \n",
    "                            \"kk, kodeks karny\",\n",
    "                            \"kc, kodeks cywilny\"\n",
    "                        ]\n",
    "                        }\n",
    "                    }\n",
    "                }\n",
    "            },\n",
    "    \"mappings\":{\n",
    "            \"properties\":{\n",
    "                \"data\": {\n",
    "                    \"type\":\"text\",\n",
    "                    \"analyzer\":\"my_custom_analyzer\"\n",
    "                }\n",
    "            }\n",
    "    }\n",
    "    }\n",
    "    )\n",
    "\n",
    "\n",
    "def add_files(elastic_client):\n",
    "    files = os.listdir(\"ustawy\")\n",
    "    for file_name in files:\n",
    "        with open(\"ustawy\" + '/' + file_name, 'r') as document:\n",
    "            act = document.read()\n",
    "            elastic_client.create(\"my_custom_index\", file_name, {\"data\": act})\n",
    "\n",
    "\n",
    "def elastic_search_query(elastic_client, query_body):\n",
    "    result = elastic_client.search(index=\"my_custom_index\", body=query_body)\n",
    "    print(result[\"hits\"][\"total\"])\n",
    "\n",
    "\n",
    "def task_one(elastic_client):\n",
    "    # Determine the number of legislative acts containing the word ustawa (in any form).\n",
    "    query_body = {\"query\": {\n",
    "                    \"match\": {\n",
    "                        \"data\": {\n",
    "                            \"query\": \"ustawa\"\n",
    "                                }\n",
    "                            }\n",
    "                        }\n",
    "                }\n",
    "    elastic_search_query(elastic_client, query_body)\n",
    "\n",
    "\n",
    "def task_two(elastic_client):\n",
    "    # Determine the number of legislative acts containing the words kodeks postępowania cywilnego in the specified order, but in an any inflection form.\n",
    "    query_body = {\"query\": {\n",
    "                    \"match_phrase\": {\n",
    "                        \"data\": {\n",
    "                            \"query\": \"kodeks postępowania cywilnego\"\n",
    "                                }\n",
    "                            }\n",
    "                        }\n",
    "                }\n",
    "    elastic_search_query(elastic_client, query_body)\n",
    "\n",
    "\n",
    "def task_three(elastic_client):\n",
    "    # Determine the number of legislative acts containing the words wchodzi w życie (in any form) allowing for up to 2 additional words in the searched phrase.\n",
    "    query_body = {\"query\": {\n",
    "                    \"match_phrase\": {\n",
    "                        \"data\": {\n",
    "                            \"query\": \"wchodzi w życie\",\n",
    "                            \"slop\": 2\n",
    "                                }\n",
    "                            }\n",
    "                        }\n",
    "                }\n",
    "    elastic_search_query(elastic_client, query_body)\n",
    "\n",
    "\n",
    "def task_four(elastic_client):\n",
    "    # Determine the 10 documents that are the most relevant for the phrase konstytucja.\n",
    "    query_body = {\"query\": {\n",
    "                    \"match\": {\n",
    "                        \"data\": {\n",
    "                            \"query\": \"konstytucja\"\n",
    "                                }\n",
    "                            }\n",
    "                        }\n",
    "                }\n",
    "    elastic_search_query(elastic_client, query_body)\n",
    "\n",
    "\n",
    "def task_five(elastic_client):\n",
    "    # Print the excerpts containing the word konstytucja (up to three excerpts per document) from the previous task.\n",
    "    pass\n",
    "\n",
    "elastic_client = Elasticsearch()\n",
    "# create_index(elastic_client)\n",
    "# add_files(elastic_client)\n"
   ]
  },
  {
   "cell_type": "code",
   "execution_count": 2,
   "metadata": {},
   "outputs": [
    {
     "output_type": "stream",
     "name": "stdout",
     "text": [
      "{'value': 1179, 'relation': 'eq'}\n"
     ]
    }
   ],
   "source": [
    " task_one(elastic_client)"
   ]
  },
  {
   "cell_type": "code",
   "execution_count": 3,
   "metadata": {},
   "outputs": [
    {
     "output_type": "stream",
     "name": "stdout",
     "text": [
      "{'value': 100, 'relation': 'eq'}\n"
     ]
    }
   ],
   "source": [
    "task_two(elastic_client)"
   ]
  },
  {
   "cell_type": "code",
   "execution_count": 4,
   "metadata": {},
   "outputs": [
    {
     "output_type": "stream",
     "name": "stdout",
     "text": [
      "{'value': 1175, 'relation': 'eq'}\n"
     ]
    }
   ],
   "source": [
    "task_three(elastic_client)"
   ]
  }
 ]
}